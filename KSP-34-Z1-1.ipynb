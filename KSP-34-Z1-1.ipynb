{
 "cells": [
  {
   "cell_type": "code",
   "execution_count": null,
   "id": "4da459e7",
   "metadata": {},
   "outputs": [],
   "source": [
    "from datetime import datetime\n",
    "import numpy as np"
   ]
  },
  {
   "cell_type": "code",
   "execution_count": null,
   "id": "b2e5fad5",
   "metadata": {},
   "outputs": [],
   "source": [
    "n = int(input())"
   ]
  },
  {
   "cell_type": "code",
   "execution_count": null,
   "id": "e4eaf659",
   "metadata": {},
   "outputs": [],
   "source": [
    "class Building:\n",
    "    def __init__(self, number, date):\n",
    "        self._num = number\n",
    "        self._order = number\n",
    "        self._date = date\n",
    "    \n",
    "    def getNumber(self):\n",
    "        return self._num\n",
    "    \n",
    "    def setNumber(self, number):\n",
    "        self._num = number\n",
    "        return\n",
    "    \n",
    "    def getOrder(self):\n",
    "        return self._order\n",
    "    \n",
    "    def getDate(self):\n",
    "        return self._date\n",
    "\n",
    "# buildings = np.array([None] * n)\n",
    "buildings = [None] * n"
   ]
  },
  {
   "cell_type": "code",
   "execution_count": null,
   "id": "8d8ebcd4",
   "metadata": {
    "scrolled": true
   },
   "outputs": [],
   "source": [
    "for i in range(n):\n",
    "    date = input()\n",
    "    date = datetime.strptime(date, \"%Y-%m-%d %H:%M:%S\")\n",
    "    \n",
    "#     buildings = np.append(buildings, Building(i + 1, date))\n",
    "    buildings[i] = Building(i + 1, date)"
   ]
  },
  {
   "cell_type": "code",
   "execution_count": null,
   "id": "edfde4ec",
   "metadata": {
    "scrolled": false
   },
   "outputs": [],
   "source": [
    "buildings2 = sorted(buildings, key=lambda b: b.getDate())\n",
    "\n",
    "i = 1\n",
    "for b in buildings2:\n",
    "    b.setNumber(i)\n",
    "    i += 1"
   ]
  },
  {
   "cell_type": "code",
   "execution_count": null,
   "id": "11c7dbc6",
   "metadata": {},
   "outputs": [],
   "source": [
    "for b in buildings:\n",
    "    print(b.getNumber())"
   ]
  }
 ],
 "metadata": {
  "kernelspec": {
   "display_name": "Python 3 (ipykernel)",
   "language": "python",
   "name": "python3"
  },
  "language_info": {
   "codemirror_mode": {
    "name": "ipython",
    "version": 3
   },
   "file_extension": ".py",
   "mimetype": "text/x-python",
   "name": "python",
   "nbconvert_exporter": "python",
   "pygments_lexer": "ipython3",
   "version": "3.9.5"
  }
 },
 "nbformat": 4,
 "nbformat_minor": 5
}
